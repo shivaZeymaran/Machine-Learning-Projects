{
 "cells": [
  {
   "cell_type": "markdown",
   "id": "7d524feb",
   "metadata": {},
   "source": [
    "# Logistic Regression"
   ]
  },
  {
   "cell_type": "code",
   "execution_count": 1,
   "id": "b3ed6834",
   "metadata": {},
   "outputs": [],
   "source": [
    "import pandas as pd\n",
    "import numpy as np\n",
    "import matplotlib.pyplot as plt\n",
    "import random\n",
    "from sklearn.model_selection import train_test_split\n",
    "from sklearn.metrics import precision_score, confusion_matrix, ConfusionMatrixDisplay\n",
    "from sklearn.preprocessing import OneHotEncoder\n",
    "import warnings\n",
    "warnings.filterwarnings('ignore')"
   ]
  },
  {
   "cell_type": "markdown",
   "id": "6a5726d9",
   "metadata": {},
   "source": [
    "## Data Preparation"
   ]
  },
  {
   "cell_type": "code",
   "execution_count": 109,
   "id": "4f7bfe19",
   "metadata": {},
   "outputs": [],
   "source": [
    "# open dataset file\n",
    "file = open(\"wifi_data.txt\", \"r\")\n",
    "\n",
    "# read samples from dataset file\n",
    "data = []\n",
    "\n",
    "for f in file:\n",
    "    x = f.split()\n",
    "    x = [int(i) for i in x]\n",
    "    data.append(x)\n",
    "    "
   ]
  },
  {
   "cell_type": "code",
   "execution_count": 110,
   "id": "4f0ad174",
   "metadata": {},
   "outputs": [
    {
     "data": {
      "text/html": [
       "<div>\n",
       "<style scoped>\n",
       "    .dataframe tbody tr th:only-of-type {\n",
       "        vertical-align: middle;\n",
       "    }\n",
       "\n",
       "    .dataframe tbody tr th {\n",
       "        vertical-align: top;\n",
       "    }\n",
       "\n",
       "    .dataframe thead th {\n",
       "        text-align: right;\n",
       "    }\n",
       "</style>\n",
       "<table border=\"1\" class=\"dataframe\">\n",
       "  <thead>\n",
       "    <tr style=\"text-align: right;\">\n",
       "      <th></th>\n",
       "      <th>r1</th>\n",
       "      <th>r2</th>\n",
       "      <th>r3</th>\n",
       "      <th>r4</th>\n",
       "      <th>r5</th>\n",
       "      <th>r6</th>\n",
       "      <th>r7</th>\n",
       "      <th>region</th>\n",
       "    </tr>\n",
       "  </thead>\n",
       "  <tbody>\n",
       "    <tr>\n",
       "      <th>0</th>\n",
       "      <td>-64</td>\n",
       "      <td>-56</td>\n",
       "      <td>-61</td>\n",
       "      <td>-66</td>\n",
       "      <td>-71</td>\n",
       "      <td>-82</td>\n",
       "      <td>-81</td>\n",
       "      <td>1</td>\n",
       "    </tr>\n",
       "    <tr>\n",
       "      <th>1</th>\n",
       "      <td>-68</td>\n",
       "      <td>-57</td>\n",
       "      <td>-61</td>\n",
       "      <td>-65</td>\n",
       "      <td>-71</td>\n",
       "      <td>-85</td>\n",
       "      <td>-85</td>\n",
       "      <td>1</td>\n",
       "    </tr>\n",
       "    <tr>\n",
       "      <th>2</th>\n",
       "      <td>-63</td>\n",
       "      <td>-60</td>\n",
       "      <td>-60</td>\n",
       "      <td>-67</td>\n",
       "      <td>-76</td>\n",
       "      <td>-85</td>\n",
       "      <td>-84</td>\n",
       "      <td>1</td>\n",
       "    </tr>\n",
       "    <tr>\n",
       "      <th>3</th>\n",
       "      <td>-61</td>\n",
       "      <td>-60</td>\n",
       "      <td>-68</td>\n",
       "      <td>-62</td>\n",
       "      <td>-77</td>\n",
       "      <td>-90</td>\n",
       "      <td>-80</td>\n",
       "      <td>1</td>\n",
       "    </tr>\n",
       "    <tr>\n",
       "      <th>4</th>\n",
       "      <td>-63</td>\n",
       "      <td>-65</td>\n",
       "      <td>-60</td>\n",
       "      <td>-63</td>\n",
       "      <td>-77</td>\n",
       "      <td>-81</td>\n",
       "      <td>-87</td>\n",
       "      <td>1</td>\n",
       "    </tr>\n",
       "  </tbody>\n",
       "</table>\n",
       "</div>"
      ],
      "text/plain": [
       "   r1  r2  r3  r4  r5  r6  r7  region\n",
       "0 -64 -56 -61 -66 -71 -82 -81       1\n",
       "1 -68 -57 -61 -65 -71 -85 -85       1\n",
       "2 -63 -60 -60 -67 -76 -85 -84       1\n",
       "3 -61 -60 -68 -62 -77 -90 -80       1\n",
       "4 -63 -65 -60 -63 -77 -81 -87       1"
      ]
     },
     "execution_count": 110,
     "metadata": {},
     "output_type": "execute_result"
    }
   ],
   "source": [
    "# converting data into dataframe\n",
    "df = pd.DataFrame(data, columns = ['r1','r2','r3','r4','r5','r6','r7','region'])\n",
    "df.head()"
   ]
  },
  {
   "cell_type": "code",
   "execution_count": 111,
   "id": "7f720ce0",
   "metadata": {},
   "outputs": [
    {
     "data": {
      "text/plain": [
       "(2000, 8)"
      ]
     },
     "execution_count": 111,
     "metadata": {},
     "output_type": "execute_result"
    }
   ],
   "source": [
    "df.shape"
   ]
  },
  {
   "cell_type": "code",
   "execution_count": 112,
   "id": "c33ce476",
   "metadata": {},
   "outputs": [
    {
     "data": {
      "text/html": [
       "<div>\n",
       "<style scoped>\n",
       "    .dataframe tbody tr th:only-of-type {\n",
       "        vertical-align: middle;\n",
       "    }\n",
       "\n",
       "    .dataframe tbody tr th {\n",
       "        vertical-align: top;\n",
       "    }\n",
       "\n",
       "    .dataframe thead th {\n",
       "        text-align: right;\n",
       "    }\n",
       "</style>\n",
       "<table border=\"1\" class=\"dataframe\">\n",
       "  <thead>\n",
       "    <tr style=\"text-align: right;\">\n",
       "      <th></th>\n",
       "      <th>r1</th>\n",
       "      <th>r2</th>\n",
       "      <th>r3</th>\n",
       "      <th>r4</th>\n",
       "      <th>r5</th>\n",
       "      <th>r6</th>\n",
       "      <th>r7</th>\n",
       "      <th>region</th>\n",
       "    </tr>\n",
       "  </thead>\n",
       "  <tbody>\n",
       "    <tr>\n",
       "      <th>0</th>\n",
       "      <td>-13</td>\n",
       "      <td>-60</td>\n",
       "      <td>-63</td>\n",
       "      <td>-18</td>\n",
       "      <td>-70</td>\n",
       "      <td>-73</td>\n",
       "      <td>-73</td>\n",
       "      <td>2</td>\n",
       "    </tr>\n",
       "    <tr>\n",
       "      <th>1</th>\n",
       "      <td>-66</td>\n",
       "      <td>-53</td>\n",
       "      <td>-59</td>\n",
       "      <td>-62</td>\n",
       "      <td>-69</td>\n",
       "      <td>-81</td>\n",
       "      <td>-79</td>\n",
       "      <td>1</td>\n",
       "    </tr>\n",
       "    <tr>\n",
       "      <th>2</th>\n",
       "      <td>-55</td>\n",
       "      <td>-54</td>\n",
       "      <td>-43</td>\n",
       "      <td>-60</td>\n",
       "      <td>-51</td>\n",
       "      <td>-84</td>\n",
       "      <td>-88</td>\n",
       "      <td>4</td>\n",
       "    </tr>\n",
       "    <tr>\n",
       "      <th>3</th>\n",
       "      <td>-43</td>\n",
       "      <td>-53</td>\n",
       "      <td>-51</td>\n",
       "      <td>-42</td>\n",
       "      <td>-73</td>\n",
       "      <td>-71</td>\n",
       "      <td>-66</td>\n",
       "      <td>2</td>\n",
       "    </tr>\n",
       "    <tr>\n",
       "      <th>4</th>\n",
       "      <td>-59</td>\n",
       "      <td>-52</td>\n",
       "      <td>-50</td>\n",
       "      <td>-55</td>\n",
       "      <td>-49</td>\n",
       "      <td>-87</td>\n",
       "      <td>-86</td>\n",
       "      <td>4</td>\n",
       "    </tr>\n",
       "  </tbody>\n",
       "</table>\n",
       "</div>"
      ],
      "text/plain": [
       "   r1  r2  r3  r4  r5  r6  r7  region\n",
       "0 -13 -60 -63 -18 -70 -73 -73       2\n",
       "1 -66 -53 -59 -62 -69 -81 -79       1\n",
       "2 -55 -54 -43 -60 -51 -84 -88       4\n",
       "3 -43 -53 -51 -42 -73 -71 -66       2\n",
       "4 -59 -52 -50 -55 -49 -87 -86       4"
      ]
     },
     "execution_count": 112,
     "metadata": {},
     "output_type": "execute_result"
    }
   ],
   "source": [
    "# shuffle dataframe first\n",
    "df = df.sample(frac=1).reset_index()\n",
    "del df['index']\n",
    "df.head()"
   ]
  },
  {
   "cell_type": "markdown",
   "id": "75929272",
   "metadata": {},
   "source": [
    "## 1. Binary Classification"
   ]
  },
  {
   "cell_type": "code",
   "execution_count": 6,
   "id": "869b8287",
   "metadata": {},
   "outputs": [
    {
     "data": {
      "text/plain": [
       "(1000, 8)"
      ]
     },
     "execution_count": 6,
     "metadata": {},
     "output_type": "execute_result"
    }
   ],
   "source": [
    "# drop data samples for class 2 and 4\n",
    "df = df.drop(df.index[df['region']==2])\n",
    "df = df.drop(df.index[df['region']==4])\n",
    "df.shape"
   ]
  },
  {
   "cell_type": "code",
   "execution_count": 7,
   "id": "cf070e8d",
   "metadata": {},
   "outputs": [
    {
     "data": {
      "text/html": [
       "<div>\n",
       "<style scoped>\n",
       "    .dataframe tbody tr th:only-of-type {\n",
       "        vertical-align: middle;\n",
       "    }\n",
       "\n",
       "    .dataframe tbody tr th {\n",
       "        vertical-align: top;\n",
       "    }\n",
       "\n",
       "    .dataframe thead th {\n",
       "        text-align: right;\n",
       "    }\n",
       "</style>\n",
       "<table border=\"1\" class=\"dataframe\">\n",
       "  <thead>\n",
       "    <tr style=\"text-align: right;\">\n",
       "      <th></th>\n",
       "      <th>r1</th>\n",
       "      <th>r2</th>\n",
       "      <th>r3</th>\n",
       "      <th>r4</th>\n",
       "      <th>r5</th>\n",
       "      <th>r6</th>\n",
       "      <th>r7</th>\n",
       "      <th>region</th>\n",
       "    </tr>\n",
       "  </thead>\n",
       "  <tbody>\n",
       "    <tr>\n",
       "      <th>1</th>\n",
       "      <td>-67</td>\n",
       "      <td>-56</td>\n",
       "      <td>-62</td>\n",
       "      <td>-70</td>\n",
       "      <td>-69</td>\n",
       "      <td>-86</td>\n",
       "      <td>-84</td>\n",
       "      <td>0</td>\n",
       "    </tr>\n",
       "    <tr>\n",
       "      <th>2</th>\n",
       "      <td>-61</td>\n",
       "      <td>-52</td>\n",
       "      <td>-54</td>\n",
       "      <td>-63</td>\n",
       "      <td>-64</td>\n",
       "      <td>-84</td>\n",
       "      <td>-82</td>\n",
       "      <td>0</td>\n",
       "    </tr>\n",
       "    <tr>\n",
       "      <th>3</th>\n",
       "      <td>-62</td>\n",
       "      <td>-57</td>\n",
       "      <td>-59</td>\n",
       "      <td>-72</td>\n",
       "      <td>-73</td>\n",
       "      <td>-86</td>\n",
       "      <td>-82</td>\n",
       "      <td>0</td>\n",
       "    </tr>\n",
       "    <tr>\n",
       "      <th>5</th>\n",
       "      <td>-48</td>\n",
       "      <td>-55</td>\n",
       "      <td>-58</td>\n",
       "      <td>-50</td>\n",
       "      <td>-63</td>\n",
       "      <td>-81</td>\n",
       "      <td>-86</td>\n",
       "      <td>1</td>\n",
       "    </tr>\n",
       "    <tr>\n",
       "      <th>6</th>\n",
       "      <td>-60</td>\n",
       "      <td>-53</td>\n",
       "      <td>-59</td>\n",
       "      <td>-64</td>\n",
       "      <td>-70</td>\n",
       "      <td>-80</td>\n",
       "      <td>-90</td>\n",
       "      <td>0</td>\n",
       "    </tr>\n",
       "  </tbody>\n",
       "</table>\n",
       "</div>"
      ],
      "text/plain": [
       "   r1  r2  r3  r4  r5  r6  r7  region\n",
       "1 -67 -56 -62 -70 -69 -86 -84       0\n",
       "2 -61 -52 -54 -63 -64 -84 -82       0\n",
       "3 -62 -57 -59 -72 -73 -86 -82       0\n",
       "5 -48 -55 -58 -50 -63 -81 -86       1\n",
       "6 -60 -53 -59 -64 -70 -80 -90       0"
      ]
     },
     "execution_count": 7,
     "metadata": {},
     "output_type": "execute_result"
    }
   ],
   "source": [
    "# 0 -> region 1  \n",
    "# 1 -> region 3\n",
    "\n",
    "df['region'] = df['region'].replace([1, 3], [0, 1])\n",
    "df.head()"
   ]
  },
  {
   "cell_type": "code",
   "execution_count": 8,
   "id": "e8e1022d",
   "metadata": {},
   "outputs": [
    {
     "data": {
      "text/html": [
       "<div>\n",
       "<style scoped>\n",
       "    .dataframe tbody tr th:only-of-type {\n",
       "        vertical-align: middle;\n",
       "    }\n",
       "\n",
       "    .dataframe tbody tr th {\n",
       "        vertical-align: top;\n",
       "    }\n",
       "\n",
       "    .dataframe thead th {\n",
       "        text-align: right;\n",
       "    }\n",
       "</style>\n",
       "<table border=\"1\" class=\"dataframe\">\n",
       "  <thead>\n",
       "    <tr style=\"text-align: right;\">\n",
       "      <th></th>\n",
       "      <th>r1</th>\n",
       "      <th>r2</th>\n",
       "      <th>r3</th>\n",
       "      <th>r4</th>\n",
       "      <th>r5</th>\n",
       "      <th>r6</th>\n",
       "      <th>r7</th>\n",
       "    </tr>\n",
       "  </thead>\n",
       "  <tbody>\n",
       "    <tr>\n",
       "      <th>1</th>\n",
       "      <td>-67</td>\n",
       "      <td>-56</td>\n",
       "      <td>-62</td>\n",
       "      <td>-70</td>\n",
       "      <td>-69</td>\n",
       "      <td>-86</td>\n",
       "      <td>-84</td>\n",
       "    </tr>\n",
       "    <tr>\n",
       "      <th>2</th>\n",
       "      <td>-61</td>\n",
       "      <td>-52</td>\n",
       "      <td>-54</td>\n",
       "      <td>-63</td>\n",
       "      <td>-64</td>\n",
       "      <td>-84</td>\n",
       "      <td>-82</td>\n",
       "    </tr>\n",
       "    <tr>\n",
       "      <th>3</th>\n",
       "      <td>-62</td>\n",
       "      <td>-57</td>\n",
       "      <td>-59</td>\n",
       "      <td>-72</td>\n",
       "      <td>-73</td>\n",
       "      <td>-86</td>\n",
       "      <td>-82</td>\n",
       "    </tr>\n",
       "    <tr>\n",
       "      <th>5</th>\n",
       "      <td>-48</td>\n",
       "      <td>-55</td>\n",
       "      <td>-58</td>\n",
       "      <td>-50</td>\n",
       "      <td>-63</td>\n",
       "      <td>-81</td>\n",
       "      <td>-86</td>\n",
       "    </tr>\n",
       "    <tr>\n",
       "      <th>6</th>\n",
       "      <td>-60</td>\n",
       "      <td>-53</td>\n",
       "      <td>-59</td>\n",
       "      <td>-64</td>\n",
       "      <td>-70</td>\n",
       "      <td>-80</td>\n",
       "      <td>-90</td>\n",
       "    </tr>\n",
       "  </tbody>\n",
       "</table>\n",
       "</div>"
      ],
      "text/plain": [
       "   r1  r2  r3  r4  r5  r6  r7\n",
       "1 -67 -56 -62 -70 -69 -86 -84\n",
       "2 -61 -52 -54 -63 -64 -84 -82\n",
       "3 -62 -57 -59 -72 -73 -86 -82\n",
       "5 -48 -55 -58 -50 -63 -81 -86\n",
       "6 -60 -53 -59 -64 -70 -80 -90"
      ]
     },
     "execution_count": 8,
     "metadata": {},
     "output_type": "execute_result"
    }
   ],
   "source": [
    "X = df[['r1','r2', 'r3', 'r4', 'r5', 'r6', 'r7']]\n",
    "X.head()"
   ]
  },
  {
   "cell_type": "code",
   "execution_count": 9,
   "id": "87a4060d",
   "metadata": {},
   "outputs": [
    {
     "data": {
      "text/plain": [
       "1    0\n",
       "2    0\n",
       "3    0\n",
       "5    1\n",
       "6    0\n",
       "Name: region, dtype: int64"
      ]
     },
     "execution_count": 9,
     "metadata": {},
     "output_type": "execute_result"
    }
   ],
   "source": [
    "y = df['region']\n",
    "y.head()"
   ]
  },
  {
   "cell_type": "markdown",
   "id": "d5240d8e",
   "metadata": {},
   "source": [
    "### Split test/train data"
   ]
  },
  {
   "cell_type": "code",
   "execution_count": 10,
   "id": "8b906da6",
   "metadata": {},
   "outputs": [
    {
     "name": "stdout",
     "output_type": "stream",
     "text": [
      "(800, 7)\n",
      "(800,)\n",
      "(200, 7)\n",
      "(200,)\n"
     ]
    }
   ],
   "source": [
    "# 80% of data should be used as training set\n",
    "X_train, X_test, y_train, y_test = train_test_split(X, y, test_size=0.2, random_state=42)\n",
    "\n",
    "print(X_train.shape)\n",
    "print(y_train.shape)\n",
    "print(X_test.shape)\n",
    "print(y_test.shape)"
   ]
  },
  {
   "cell_type": "markdown",
   "id": "c01bdc48",
   "metadata": {},
   "source": [
    "### Model\n",
    "using Gradient Descent"
   ]
  },
  {
   "cell_type": "code",
   "execution_count": 11,
   "id": "6419279d",
   "metadata": {},
   "outputs": [],
   "source": [
    "n = X_train.shape[0]   # number of training samples\n",
    "X_train = np.concatenate((np.ones((n, 1)), X_train), axis=1)   # add a coloumn of ones to X (for future calculations)"
   ]
  },
  {
   "cell_type": "code",
   "execution_count": 18,
   "id": "af77f912",
   "metadata": {},
   "outputs": [],
   "source": [
    "learning_rate = 0.001\n",
    "iterations = 1000\n",
    "m = X_train.shape[1]   # number of features\n",
    "W = np.random.randn(m, )"
   ]
  },
  {
   "cell_type": "code",
   "execution_count": 19,
   "id": "37a14d15",
   "metadata": {},
   "outputs": [
    {
     "name": "stdout",
     "output_type": "stream",
     "text": [
      "0.2576246887983437\n",
      "[-0.2544289   0.82304197 -0.59722643  0.02694467  0.90096536 -0.53074833\n",
      " -1.0350175   0.63354899]\n"
     ]
    }
   ],
   "source": [
    "# main part of approach\n",
    "grad = np.zeros(len(W))\n",
    "cost_list = []\n",
    "\n",
    "for i in range(iterations):\n",
    "    y_hat = 1 / (1 + np.exp(-1*(X_train@W)))\n",
    "    \n",
    "    # update parameters after considering all samples\n",
    "    grad = ((y_hat - y_train)@X_train)/n\n",
    "    W -= learning_rate * grad\n",
    "        \n",
    "    # calculate J\n",
    "    cost = (-1/n) * np.sum(y_train*np.log(y_hat)+(1-y_train)*np.log(1-y_hat))\n",
    "    cost_list.append(cost)\n",
    "    \n",
    "    \n",
    "print(cost_list[-1])    \n",
    "print(W)"
   ]
  },
  {
   "cell_type": "code",
   "execution_count": 20,
   "id": "a0cc202d",
   "metadata": {},
   "outputs": [
    {
     "data": {
      "text/plain": [
       "Text(0, 0.5, 'J')"
      ]
     },
     "execution_count": 20,
     "metadata": {},
     "output_type": "execute_result"
    },
    {
     "data": {
      "image/png": "[encoded data removed]",
      "text/plain": [
       "<Figure size 432x288 with 1 Axes>"
      ]
     },
     "metadata": {
      "needs_background": "light"
     },
     "output_type": "display_data"
    }
   ],
   "source": [
    "# Plot cost values in each iteration\n",
    "iteration = np.array([i for i in range(len(cost_list))])\n",
    "plt.plot(iteration, cost_list)\n",
    "plt.xlabel('iteration')\n",
    "plt.ylabel('J')"
   ]
  },
  {
   "cell_type": "markdown",
   "id": "64b141e7",
   "metadata": {},
   "source": [
    "### Prediction for test data\n",
    "Precision and Confusion Matrix"
   ]
  },
  {
   "cell_type": "code",
   "execution_count": 21,
   "id": "d0017d4d",
   "metadata": {},
   "outputs": [],
   "source": [
    "n_test = X_test.shape[0]   # number of test samples\n",
    "X_test = np.concatenate((np.ones((n_test, 1)), X_test), axis=1)   # add a coloumn of ones to X (for future calculations)"
   ]
  },
  {
   "cell_type": "code",
   "execution_count": 22,
   "id": "19a5a223",
   "metadata": {},
   "outputs": [
    {
     "name": "stdout",
     "output_type": "stream",
     "text": [
      "Precision: 0.928\n"
     ]
    },
    {
     "data": {
      "text/plain": [
       "<sklearn.metrics._plot.confusion_matrix.ConfusionMatrixDisplay at 0x29bf029dc0>"
      ]
     },
     "execution_count": 22,
     "metadata": {},
     "output_type": "execute_result"
    },
    {
     "data": {
      "image/png": "[encoded data removed]",
      "text/plain": [
       "<Figure size 432x288 with 2 Axes>"
      ]
     },
     "metadata": {
      "needs_background": "light"
     },
     "output_type": "display_data"
    }
   ],
   "source": [
    "y_pred = 1 / (1 + np.exp(-1*(X_test@W)))\n",
    "\n",
    "preds = [1 if p>=0.5 else 0 for p in y_pred]\n",
    "\n",
    "print('Precision: %.3f' % precision_score(y_test, preds))\n",
    "\n",
    "cm = confusion_matrix(y_test, preds)\n",
    "disp = ConfusionMatrixDisplay(confusion_matrix=cm)\n",
    "disp.plot()"
   ]
  },
  {
   "cell_type": "markdown",
   "id": "35a7f4d3",
   "metadata": {},
   "source": [
    "## 2. Adding Regularization"
   ]
  },
  {
   "cell_type": "code",
   "execution_count": 93,
   "id": "6978bf1e",
   "metadata": {},
   "outputs": [],
   "source": [
    "learning_rate = 0.001\n",
    "iterations = 1000\n",
    "m = X_train.shape[1]   # number of features\n",
    "# W = np.random.randn(m, )"
   ]
  },
  {
   "cell_type": "code",
   "execution_count": 106,
   "id": "b29e9b10",
   "metadata": {},
   "outputs": [],
   "source": [
    "W = np.array([ 0.99114951, -0.93399528,  1.39452542,  0.555887  ,  0.89130126, 1.43942712,  0.39526934, -0.26474118])"
   ]
  },
  {
   "cell_type": "code",
   "execution_count": 107,
   "id": "94d8bb5d",
   "metadata": {},
   "outputs": [
    {
     "name": "stdout",
     "output_type": "stream",
     "text": [
      "0.3088554939826559\n",
      "[ 1.00635712 -0.3005353   0.29007843  0.29244772  1.08909487  0.69276553\n",
      " -0.60031328 -0.89288813]\n"
     ]
    }
   ],
   "source": [
    "# main part of approach\n",
    "lamb = 0  # testing 5, 0, 1, 2\n",
    "grad = np.zeros(len(W))\n",
    "cost_list = []\n",
    "\n",
    "for i in range(iterations):\n",
    "    y_hat = 1 / (1 + np.exp(-1*(X_train@W)))\n",
    "    \n",
    "    # update parameters after considering all samples\n",
    "    grad = (1/n)*((y_hat - y_train)@X_train) + (lamb/m)*W\n",
    "    W -= learning_rate * grad\n",
    "        \n",
    "    # calculate J\n",
    "    cost = (-1/n)*np.sum(y_train*np.log(y_hat)+(1-y_train)*np.log(1-y_hat)) + (lamb/(2*m))*np.sum(W**2)\n",
    "    cost_list.append(cost)\n",
    "    \n",
    "    \n",
    "print(cost_list[-1])    \n",
    "print(W)"
   ]
  },
  {
   "cell_type": "code",
   "execution_count": 108,
   "id": "f9e74683",
   "metadata": {},
   "outputs": [
    {
     "name": "stdout",
     "output_type": "stream",
     "text": [
      "Precision: 0.889\n"
     ]
    },
    {
     "data": {
      "text/plain": [
       "<sklearn.metrics._plot.confusion_matrix.ConfusionMatrixDisplay at 0x29c8cb8e20>"
      ]
     },
     "execution_count": 108,
     "metadata": {},
     "output_type": "execute_result"
    },
    {
     "data": {
      "image/png": "[encoded data removed]",
      "text/plain": [
       "<Figure size 432x288 with 2 Axes>"
      ]
     },
     "metadata": {
      "needs_background": "light"
     },
     "output_type": "display_data"
    }
   ],
   "source": [
    "y_pred = 1 / (1 + np.exp(-1*(X_test@W)))\n",
    "\n",
    "preds = [1 if p>=0.5 else 0 for p in y_pred]\n",
    "\n",
    "print('Precision: %.3f' % precision_score(y_test, preds))\n",
    "\n",
    "cm = confusion_matrix(y_test, preds)\n",
    "disp = ConfusionMatrixDisplay(confusion_matrix=cm)\n",
    "disp.plot()"
   ]
  },
  {
   "cell_type": "markdown",
   "id": "cca6a6e8",
   "metadata": {},
   "source": [
    "## 3. Multi-class Classification"
   ]
  },
  {
   "cell_type": "code",
   "execution_count": 113,
   "id": "aa1adafa",
   "metadata": {},
   "outputs": [
    {
     "data": {
      "text/html": [
       "<div>\n",
       "<style scoped>\n",
       "    .dataframe tbody tr th:only-of-type {\n",
       "        vertical-align: middle;\n",
       "    }\n",
       "\n",
       "    .dataframe tbody tr th {\n",
       "        vertical-align: top;\n",
       "    }\n",
       "\n",
       "    .dataframe thead th {\n",
       "        text-align: right;\n",
       "    }\n",
       "</style>\n",
       "<table border=\"1\" class=\"dataframe\">\n",
       "  <thead>\n",
       "    <tr style=\"text-align: right;\">\n",
       "      <th></th>\n",
       "      <th>r1</th>\n",
       "      <th>r2</th>\n",
       "      <th>r3</th>\n",
       "      <th>r4</th>\n",
       "      <th>r5</th>\n",
       "      <th>r6</th>\n",
       "      <th>r7</th>\n",
       "    </tr>\n",
       "  </thead>\n",
       "  <tbody>\n",
       "    <tr>\n",
       "      <th>0</th>\n",
       "      <td>-13</td>\n",
       "      <td>-60</td>\n",
       "      <td>-63</td>\n",
       "      <td>-18</td>\n",
       "      <td>-70</td>\n",
       "      <td>-73</td>\n",
       "      <td>-73</td>\n",
       "    </tr>\n",
       "    <tr>\n",
       "      <th>1</th>\n",
       "      <td>-66</td>\n",
       "      <td>-53</td>\n",
       "      <td>-59</td>\n",
       "      <td>-62</td>\n",
       "      <td>-69</td>\n",
       "      <td>-81</td>\n",
       "      <td>-79</td>\n",
       "    </tr>\n",
       "    <tr>\n",
       "      <th>2</th>\n",
       "      <td>-55</td>\n",
       "      <td>-54</td>\n",
       "      <td>-43</td>\n",
       "      <td>-60</td>\n",
       "      <td>-51</td>\n",
       "      <td>-84</td>\n",
       "      <td>-88</td>\n",
       "    </tr>\n",
       "    <tr>\n",
       "      <th>3</th>\n",
       "      <td>-43</td>\n",
       "      <td>-53</td>\n",
       "      <td>-51</td>\n",
       "      <td>-42</td>\n",
       "      <td>-73</td>\n",
       "      <td>-71</td>\n",
       "      <td>-66</td>\n",
       "    </tr>\n",
       "    <tr>\n",
       "      <th>4</th>\n",
       "      <td>-59</td>\n",
       "      <td>-52</td>\n",
       "      <td>-50</td>\n",
       "      <td>-55</td>\n",
       "      <td>-49</td>\n",
       "      <td>-87</td>\n",
       "      <td>-86</td>\n",
       "    </tr>\n",
       "  </tbody>\n",
       "</table>\n",
       "</div>"
      ],
      "text/plain": [
       "   r1  r2  r3  r4  r5  r6  r7\n",
       "0 -13 -60 -63 -18 -70 -73 -73\n",
       "1 -66 -53 -59 -62 -69 -81 -79\n",
       "2 -55 -54 -43 -60 -51 -84 -88\n",
       "3 -43 -53 -51 -42 -73 -71 -66\n",
       "4 -59 -52 -50 -55 -49 -87 -86"
      ]
     },
     "execution_count": 113,
     "metadata": {},
     "output_type": "execute_result"
    }
   ],
   "source": [
    "X = df[['r1','r2', 'r3', 'r4', 'r5', 'r6', 'r7']]\n",
    "X.head()"
   ]
  },
  {
   "cell_type": "code",
   "execution_count": 114,
   "id": "2705fa00",
   "metadata": {},
   "outputs": [
    {
     "data": {
      "text/plain": [
       "0    2\n",
       "1    1\n",
       "2    4\n",
       "3    2\n",
       "4    4\n",
       "Name: region, dtype: int64"
      ]
     },
     "execution_count": 114,
     "metadata": {},
     "output_type": "execute_result"
    }
   ],
   "source": [
    "y = df['region']\n",
    "y.head()"
   ]
  },
  {
   "cell_type": "code",
   "execution_count": 115,
   "id": "84477c8e",
   "metadata": {},
   "outputs": [
    {
     "name": "stdout",
     "output_type": "stream",
     "text": [
      "(1600, 7)\n",
      "(1600,)\n",
      "(400, 7)\n",
      "(400,)\n"
     ]
    }
   ],
   "source": [
    "# 80% of data should be used as training set\n",
    "X_train, X_test, y_train, y_test = train_test_split(X, y, test_size=0.2, random_state=42)\n",
    "\n",
    "print(X_train.shape)\n",
    "print(y_train.shape)\n",
    "print(X_test.shape)\n",
    "print(y_test.shape)"
   ]
  },
  {
   "cell_type": "markdown",
   "id": "cb4f04de",
   "metadata": {},
   "source": [
    "### Model\n",
    "using Gradient Descent"
   ]
  },
  {
   "cell_type": "code",
   "execution_count": 116,
   "id": "2e85efe7",
   "metadata": {},
   "outputs": [],
   "source": [
    "n = X_train.shape[0]   # number of training samples\n",
    "X_train = np.concatenate((np.ones((n, 1)), X_train), axis=1)   # add a coloumn of ones to X (for future calculations)"
   ]
  },
  {
   "cell_type": "code",
   "execution_count": 117,
   "id": "48390805",
   "metadata": {},
   "outputs": [
    {
     "data": {
      "text/plain": [
       "array([[4],\n",
       "       [1],\n",
       "       [3],\n",
       "       ...,\n",
       "       [2],\n",
       "       [3],\n",
       "       [4]], dtype=int64)"
      ]
     },
     "execution_count": 117,
     "metadata": {},
     "output_type": "execute_result"
    }
   ],
   "source": [
    "np.array(y_train).reshape(-1,1)"
   ]
  },
  {
   "cell_type": "code",
   "execution_count": 118,
   "id": "29730b35",
   "metadata": {},
   "outputs": [
    {
     "data": {
      "text/plain": [
       "array([[0., 0., 0., 1.],\n",
       "       [1., 0., 0., 0.],\n",
       "       [0., 0., 1., 0.],\n",
       "       ...,\n",
       "       [0., 1., 0., 0.],\n",
       "       [0., 0., 1., 0.],\n",
       "       [0., 0., 0., 1.]])"
      ]
     },
     "execution_count": 118,
     "metadata": {},
     "output_type": "execute_result"
    }
   ],
   "source": [
    "# transforming the shape of y_train into 4 values for each sample\n",
    "# When it is 1 it means that this sample is in the corresponding class\n",
    "onehot_enc = OneHotEncoder(sparse=False)\n",
    "y_encode = onehot_enc.fit_transform(np.array(y_train).reshape(-1,1))\n",
    "y_encode"
   ]
  },
  {
   "cell_type": "code",
   "execution_count": 130,
   "id": "a4485303",
   "metadata": {},
   "outputs": [],
   "source": [
    "learning_rate = 0.001\n",
    "iterations = 1000\n",
    "m = X_train.shape[1]   # number of features\n",
    "W = np.random.randn(m, y_encode.shape[1])"
   ]
  },
  {
   "cell_type": "code",
   "execution_count": 131,
   "id": "338e6b3f",
   "metadata": {},
   "outputs": [
    {
     "name": "stdout",
     "output_type": "stream",
     "text": [
      "265.45804113182766\n",
      "[[ 0.74186308  1.35204565  0.24129774 -0.37426619]\n",
      " [-0.78648609  1.43871126 -0.11646156 -0.63698362]\n",
      " [ 0.6134685  -0.93229903 -0.37175643 -0.13855962]\n",
      " [ 0.22549296  0.4674892   0.3272313   0.35984259]\n",
      " [-0.20160738 -0.47051512  0.15072134 -1.3623374 ]\n",
      " [-0.48112174 -0.70906643  0.00643814  1.18619605]\n",
      " [ 0.89766646 -0.29949516  0.6420998   0.51955683]\n",
      " [-0.36399746  0.69284128 -0.59745418 -0.05251307]]\n"
     ]
    }
   ],
   "source": [
    "# main part of approach\n",
    "grad = np.zeros(len(W))\n",
    "cost_list = []\n",
    "\n",
    "for i in range(iterations):\n",
    "    # softmax instead of sigmoid function for multi-class \n",
    "    y_hat = 1 / (1 + np.exp(-1*(X_train@W)))\n",
    "\n",
    "    # update parameters after considering all samples\n",
    "    grad = (X_train.T@(y_hat - y_encode))/n\n",
    "    W -= learning_rate * grad\n",
    "        \n",
    "    # calculate J\n",
    "    cost = (-1/n) * (np.sum(np.log(np.exp(X_train@W)/np.sum(np.exp(X_train@W)))))\n",
    "    cost_list.append(cost)\n",
    "    \n",
    "print(cost_list[-1])      \n",
    "print(W)"
   ]
  },
  {
   "cell_type": "markdown",
   "id": "2124c953",
   "metadata": {},
   "source": [
    "### Prediction for test data\n",
    "Precision and Confusion Matrix"
   ]
  },
  {
   "cell_type": "code",
   "execution_count": 121,
   "id": "b988f13a",
   "metadata": {},
   "outputs": [],
   "source": [
    "n_test = X_test.shape[0]   # number of test samples\n",
    "X_test = np.concatenate((np.ones((n_test, 1)), X_test), axis=1)   # add a coloumn of ones to X (for future calculations)"
   ]
  },
  {
   "cell_type": "code",
   "execution_count": 132,
   "id": "e1bc3a7d",
   "metadata": {},
   "outputs": [
    {
     "name": "stdout",
     "output_type": "stream",
     "text": [
      "Precision: 0.904\n"
     ]
    },
    {
     "data": {
      "text/plain": [
       "<sklearn.metrics._plot.confusion_matrix.ConfusionMatrixDisplay at 0x29cb00a5e0>"
      ]
     },
     "execution_count": 132,
     "metadata": {},
     "output_type": "execute_result"
    },
    {
     "data": {
      "image/png": "[encoded data removed]",
      "text/plain": [
       "<Figure size 432x288 with 2 Axes>"
      ]
     },
     "metadata": {
      "needs_background": "light"
     },
     "output_type": "display_data"
    }
   ],
   "source": [
    "y_pred = 1 / (1 + np.exp(-1*(X_test@W)))\n",
    "\n",
    "# max of each row (probability) is the predicted class for each sample\n",
    "# add 1 to the result. because the argmax return the index with the max value. The predicted class is the index + 1\n",
    "preds = np.argmax(y_pred, axis=1) + 1  \n",
    "\n",
    "print('Precision: %.3f' % precision_score(y_test, preds, average='macro'))\n",
    "\n",
    "cm = confusion_matrix(y_test, preds)\n",
    "disp = ConfusionMatrixDisplay(confusion_matrix=cm)\n",
    "disp.plot()"
   ]
  }
 ],
 "metadata": {
  "kernelspec": {
   "display_name": "Python 3",
   "language": "python",
   "name": "python3"
  },
  "language_info": {
   "codemirror_mode": {
    "name": "ipython",
    "version": 3
   },
   "file_extension": ".py",
   "mimetype": "text/x-python",
   "name": "python",
   "nbconvert_exporter": "python",
   "pygments_lexer": "ipython3",
   "version": "3.9.12"
  }
 },
 "nbformat": 4,
 "nbformat_minor": 5
}
