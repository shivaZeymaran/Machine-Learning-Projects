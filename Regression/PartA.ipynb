{
 "cells": [
  {
   "cell_type": "markdown",
   "id": "4ce21f45",
   "metadata": {},
   "source": [
    "# Linear Regression Model With One Variable"
   ]
  },
  {
   "cell_type": "code",
   "execution_count": 1,
   "id": "fee21331",
   "metadata": {},
   "outputs": [],
   "source": [
    "import numpy as np\n",
    "import random\n",
    "import matplotlib.pyplot as plt"
   ]
  },
  {
   "cell_type": "code",
   "execution_count": 2,
   "id": "f559eda9",
   "metadata": {},
   "outputs": [
    {
     "data": {
      "text/plain": [
       "array([ 6.1101,  5.5277,  8.5186,  7.0032,  5.8598,  8.3829,  7.4764,\n",
       "        8.5781,  6.4862,  5.0546,  5.7107, 14.164 ,  5.734 ,  8.4084,\n",
       "        5.6407,  5.3794,  6.3654,  5.1301,  6.4296,  7.0708,  6.1891,\n",
       "       20.27  ,  5.4901,  6.3261,  5.5649, 18.945 , 12.828 , 10.957 ,\n",
       "       13.176 , 22.203 ,  5.2524,  6.5894,  9.2482,  5.8918,  8.2111,\n",
       "        7.9334,  8.0959,  5.6063, 12.836 ,  6.3534,  5.4069,  6.8825,\n",
       "       11.708 ,  5.7737,  7.8247,  7.0931,  5.0702,  5.8014, 11.7   ,\n",
       "        5.5416,  7.5402,  5.3077,  7.4239,  7.6031,  6.3328,  6.3589,\n",
       "        6.2742,  5.6397,  9.3102,  9.4536,  8.8254,  5.1793, 21.279 ,\n",
       "       14.908 , 18.959 ,  7.2182,  8.2951, 10.236 ,  5.4994, 20.341 ,\n",
       "       10.136 ,  7.3345,  6.0062,  7.2259,  5.0269,  6.5479,  7.5386,\n",
       "        5.0365, 10.274 ,  5.1077,  5.7292,  5.1884,  6.3557,  9.7687,\n",
       "        6.5159,  8.5172,  9.1802,  6.002 ,  5.5204,  5.0594,  5.7077,\n",
       "        7.6366,  5.8707,  5.3054,  8.2934, 13.394 ,  5.4369])"
      ]
     },
     "execution_count": 2,
     "metadata": {},
     "output_type": "execute_result"
    }
   ],
   "source": [
    "# open dataset file\n",
    "file = open(\"dataset1.txt\", \"r\")\n",
    "\n",
    "# read samples from dataset file\n",
    "x_sample = []\n",
    "y_sample = []\n",
    "\n",
    "for f in file:\n",
    "    x, y = f.split(',')\n",
    "    x_sample.append(float(x))\n",
    "    y_sample.append(float(y))\n",
    "\n",
    "    \n",
    "x_sample = np.array(x_sample)\n",
    "y_sample = np.array(y_sample)\n",
    "\n",
    "x_sample"
   ]
  },
  {
   "cell_type": "code",
   "execution_count": 3,
   "id": "5747f771",
   "metadata": {},
   "outputs": [
    {
     "data": {
      "text/plain": [
       "array([[6.1101],\n",
       "       [5.5277],\n",
       "       [8.5186],\n",
       "       [7.0032],\n",
       "       [5.8598]])"
      ]
     },
     "execution_count": 3,
     "metadata": {},
     "output_type": "execute_result"
    }
   ],
   "source": [
    "# reshaping list of samples\n",
    "x_sample = x_sample.reshape((x_sample.shape[0], 1))\n",
    "\n",
    "x_sample[0:5]"
   ]
  },
  {
   "cell_type": "code",
   "execution_count": 4,
   "id": "b8dc735d",
   "metadata": {},
   "outputs": [
    {
     "data": {
      "text/plain": [
       "array([[1.    , 6.1101],\n",
       "       [1.    , 5.5277],\n",
       "       [1.    , 8.5186],\n",
       "       [1.    , 7.0032],\n",
       "       [1.    , 5.8598]])"
      ]
     },
     "execution_count": 4,
     "metadata": {},
     "output_type": "execute_result"
    }
   ],
   "source": [
    "n = x_sample.shape[0]   # number of training samples\n",
    "m = x_sample.shape[1]   # number of features\n",
    "X = np.concatenate((np.ones((n, 1)), x_sample), axis=1)   # add a coloumn of ones to X (for future calculations)\n",
    "\n",
    "X[0:5]"
   ]
  },
  {
   "cell_type": "markdown",
   "id": "9ae402d6",
   "metadata": {},
   "source": [
    "## 1. Closed Form"
   ]
  },
  {
   "cell_type": "code",
   "execution_count": 5,
   "id": "e419214f",
   "metadata": {},
   "outputs": [
    {
     "name": "stdout",
     "output_type": "stream",
     "text": [
      "The solution for theta are: -3.8957808783119106 1.1930336441895992\n"
     ]
    }
   ],
   "source": [
    "# main part of approach\n",
    "theta = np.dot(np.linalg.inv(np.dot(X.T, X)), np.dot(X.T, y_sample))\n",
    "theta_CF = theta\n",
    "print('The solution for theta are:', theta_CF[0], theta_CF[1])"
   ]
  },
  {
   "cell_type": "markdown",
   "id": "327a800a",
   "metadata": {},
   "source": [
    "## 2. Gradient Descent (online/stochastic mode)"
   ]
  },
  {
   "cell_type": "code",
   "execution_count": 6,
   "id": "33d80b35",
   "metadata": {},
   "outputs": [],
   "source": [
    "learning_rate = 0.0001\n",
    "iterations = 1500\n",
    "W = np.random.randn(m + 1, )"
   ]
  },
  {
   "cell_type": "code",
   "execution_count": 7,
   "id": "3b34909b",
   "metadata": {},
   "outputs": [
    {
     "name": "stdout",
     "output_type": "stream",
     "text": [
      "The solution for theta is: [-3.65147598  1.16849057]\n"
     ]
    }
   ],
   "source": [
    "J_online = []   # cost values in each epoch \n",
    "grad = np.zeros(len(W))\n",
    "\n",
    "# main part of approach\n",
    "for i in range(iterations):\n",
    "    y_hat = X@W\n",
    "\n",
    "    # update parameters after considering each sample\n",
    "    for j in range(n):   # iterate on samples\n",
    "        for k in range(len(W)):   # iterate on features (to find all thetas)\n",
    "            grad[k] = (X[j][k]*(y_hat[j] - y_sample[j]))\n",
    "            W[k] -= learning_rate * grad[k]\n",
    "        \n",
    "    # calculate cost(J) in each epoch\n",
    "    J_online.append(np.sum((y_hat - y_sample)**2)/(2*n))\n",
    "\n",
    "theta_online = W\n",
    "print('The solution for theta is:', theta_online)"
   ]
  },
  {
   "cell_type": "markdown",
   "id": "37af1028",
   "metadata": {},
   "source": [
    "## 3. Gradient Descent (Batch mode)"
   ]
  },
  {
   "cell_type": "code",
   "execution_count": 8,
   "id": "6597ac91",
   "metadata": {},
   "outputs": [],
   "source": [
    "learning_rate = 0.0001\n",
    "iterations = 1500\n",
    "W = np.random.randn(m + 1, )"
   ]
  },
  {
   "cell_type": "code",
   "execution_count": 9,
   "id": "8657e683",
   "metadata": {},
   "outputs": [
    {
     "name": "stdout",
     "output_type": "stream",
     "text": [
      "The solution for theta is: [-1.06068403  0.90821628]\n"
     ]
    }
   ],
   "source": [
    "J_Batch = []   # cost values in each epoch \n",
    "grad = np.zeros(len(W))\n",
    "\n",
    "# main part of approach\n",
    "for i in range(iterations):\n",
    "    y_hat = X@W    \n",
    "    \n",
    "    # update parameters after considering all samples\n",
    "    for k in range(len(W)):   # iterate on features (to find all thetas)\n",
    "        grad[k] = (X[:,k]@(y_hat - y_sample))/n\n",
    "        W[k] -= learning_rate * grad[k]\n",
    "    \n",
    "    # calculate cost(J) in each epoch\n",
    "    J_Batch.append(np.sum((y_hat - y_sample)**2)/(2*n))\n",
    "    \n",
    "theta_batch = W\n",
    "print('The solution for theta is:', theta_batch)"
   ]
  },
  {
   "cell_type": "markdown",
   "id": "f1213546",
   "metadata": {},
   "source": [
    "## Plots"
   ]
  },
  {
   "cell_type": "code",
   "execution_count": 10,
   "id": "c496935b",
   "metadata": {},
   "outputs": [
    {
     "data": {
      "text/plain": [
       "[<matplotlib.lines.Line2D at 0xf7a0fc5490>]"
      ]
     },
     "execution_count": 10,
     "metadata": {},
     "output_type": "execute_result"
    },
    {
     "data": {
      "image/png": "[encoded data removed]",
      "text/plain": [
       "<Figure size 432x288 with 1 Axes>"
      ]
     },
     "metadata": {
      "needs_background": "light"
     },
     "output_type": "display_data"
    }
   ],
   "source": [
    "plt.scatter(x_sample, y_sample, color='black')\n",
    "plt.xlabel('x')\n",
    "plt.ylabel('y')\n",
    "\n",
    "plt.plot(x_sample, X@theta_CF, label='Closed Form')"
   ]
  },
  {
   "cell_type": "code",
   "execution_count": 11,
   "id": "dae33767",
   "metadata": {},
   "outputs": [
    {
     "data": {
      "text/plain": [
       "[<matplotlib.lines.Line2D at 0xf7a10c0250>]"
      ]
     },
     "execution_count": 11,
     "metadata": {},
     "output_type": "execute_result"
    },
    {
     "data": {
      "image/png": "[encoded data removed]",
      "text/plain": [
       "<Figure size 432x288 with 1 Axes>"
      ]
     },
     "metadata": {
      "needs_background": "light"
     },
     "output_type": "display_data"
    }
   ],
   "source": [
    "plt.scatter(x_sample, y_sample, color='black')\n",
    "plt.xlabel('x')\n",
    "plt.ylabel('y')\n",
    "\n",
    "plt.plot(x_sample, X@theta_online, label='GD Online')"
   ]
  },
  {
   "cell_type": "code",
   "execution_count": 12,
   "id": "83bf7069",
   "metadata": {},
   "outputs": [
    {
     "data": {
      "text/plain": [
       "[<matplotlib.lines.Line2D at 0xf7a112c9a0>]"
      ]
     },
     "execution_count": 12,
     "metadata": {},
     "output_type": "execute_result"
    },
    {
     "data": {
      "image/png": "[encoded data removed]",
      "text/plain": [
       "<Figure size 432x288 with 1 Axes>"
      ]
     },
     "metadata": {
      "needs_background": "light"
     },
     "output_type": "display_data"
    }
   ],
   "source": [
    "plt.scatter(x_sample, y_sample, color='black')\n",
    "plt.xlabel('x')\n",
    "plt.ylabel('y')\n",
    "\n",
    "plt.plot(x_sample, X@theta_batch, label='GD Batch')"
   ]
  },
  {
   "cell_type": "markdown",
   "id": "59a703d5",
   "metadata": {},
   "source": [
    "## Prediction"
   ]
  },
  {
   "cell_type": "code",
   "execution_count": 13,
   "id": "d8ec1ea9",
   "metadata": {},
   "outputs": [
    {
     "name": "stdout",
     "output_type": "stream",
     "text": [
      "Closed Form predicted values: [ 3.50102772 11.37504977 22.47026266 31.89522845]\n",
      "GD Online predicted values: [ 3.59316554 11.30520328 22.17216556 31.40324104]\n",
      "GD Batch predicted values: [ 4.57025694 10.56448442 19.01089587 26.18580451]\n"
     ]
    }
   ],
   "source": [
    "x_pred = np.array([[6.2], [12.8], [22.1], [30]])\n",
    "X_pred = np.concatenate((np.ones((4, 1)), x_pred), axis=1)\n",
    "\n",
    "# Closed Form\n",
    "y_pred = X_pred@theta_CF\n",
    "print('Closed Form predicted values:', y_pred)\n",
    "\n",
    "# GD Online\n",
    "y_pred = X_pred@theta_online\n",
    "print('GD Online predicted values:', y_pred)\n",
    "\n",
    "# GD Batch\n",
    "y_pred = X_pred@theta_batch\n",
    "print('GD Batch predicted values:', y_pred)"
   ]
  },
  {
   "cell_type": "markdown",
   "id": "57c94f21",
   "metadata": {},
   "source": [
    "## Plot all models thogether"
   ]
  },
  {
   "cell_type": "code",
   "execution_count": 14,
   "id": "ed5740f4",
   "metadata": {},
   "outputs": [
    {
     "data": {
      "text/plain": [
       "<matplotlib.legend.Legend at 0xf7a114f7f0>"
      ]
     },
     "execution_count": 14,
     "metadata": {},
     "output_type": "execute_result"
    },
    {
     "data": {
      "image/png": "[encoded data removed]",
      "text/plain": [
       "<Figure size 432x288 with 1 Axes>"
      ]
     },
     "metadata": {
      "needs_background": "light"
     },
     "output_type": "display_data"
    }
   ],
   "source": [
    "plt.scatter(x_sample, y_sample, color='black')\n",
    "plt.xlabel('x')\n",
    "plt.ylabel('y')\n",
    "\n",
    "x = x_sample\n",
    "plt.plot(x, X@theta_CF, label='Closed Form')\n",
    "plt.plot(x, X@theta_online, label='GD Online')\n",
    "plt.plot(x, X@theta_batch, label='GD Batch')\n",
    "plt.legend()"
   ]
  },
  {
   "cell_type": "markdown",
   "id": "b5ee6123",
   "metadata": {},
   "source": [
    "## Plot J values for each epoch"
   ]
  },
  {
   "cell_type": "code",
   "execution_count": 19,
   "id": "af75107a",
   "metadata": {},
   "outputs": [
    {
     "data": {
      "text/plain": [
       "<matplotlib.legend.Legend at 0xf7a598bfd0>"
      ]
     },
     "execution_count": 19,
     "metadata": {},
     "output_type": "execute_result"
    },
    {
     "data": {
      "image/png": "[encoded data removed]",
      "text/plain": [
       "<Figure size 432x288 with 1 Axes>"
      ]
     },
     "metadata": {
      "needs_background": "light"
     },
     "output_type": "display_data"
    }
   ],
   "source": [
    "epoch = np.array([i for i in range(10, len(J_online))])\n",
    "plt.plot(epoch, J_online[10:], label='GD Online')\n",
    "plt.plot(epoch, J_Batch[10:], label='GD Batch')\n",
    "plt.xlabel('epoch')\n",
    "plt.ylabel('J')\n",
    "plt.legend()"
   ]
  }
 ],
 "metadata": {
  "kernelspec": {
   "display_name": "Python 3",
   "language": "python",
   "name": "python3"
  },
  "language_info": {
   "codemirror_mode": {
    "name": "ipython",
    "version": 3
   },
   "file_extension": ".py",
   "mimetype": "text/x-python",
   "name": "python",
   "nbconvert_exporter": "python",
   "pygments_lexer": "ipython3",
   "version": "3.9.12"
  }
 },
 "nbformat": 4,
 "nbformat_minor": 5
}
