{
 "cells": [
  {
   "cell_type": "code",
   "execution_count": 1,
   "id": "467387ac",
   "metadata": {},
   "outputs": [],
   "source": [
    "import pandas as pd\n",
    "import numpy as np\n",
    "import matplotlib.pyplot as plt\n",
    "import random\n",
    "import copy\n",
    "from sklearn.model_selection import train_test_split\n",
    "from sklearn.tree import DecisionTreeClassifier\n",
    "from sklearn.metrics import accuracy_score\n",
    "import warnings\n",
    "warnings.filterwarnings('ignore')"
   ]
  },
  {
   "cell_type": "markdown",
   "id": "931cb7b4",
   "metadata": {},
   "source": [
    "# Load Datasets"
   ]
  },
  {
   "cell_type": "code",
   "execution_count": 2,
   "id": "65274193",
   "metadata": {},
   "outputs": [
    {
     "data": {
      "text/html": [
       "<div>\n",
       "<style scoped>\n",
       "    .dataframe tbody tr th:only-of-type {\n",
       "        vertical-align: middle;\n",
       "    }\n",
       "\n",
       "    .dataframe tbody tr th {\n",
       "        vertical-align: top;\n",
       "    }\n",
       "\n",
       "    .dataframe thead th {\n",
       "        text-align: right;\n",
       "    }\n",
       "</style>\n",
       "<table border=\"1\" class=\"dataframe\">\n",
       "  <thead>\n",
       "    <tr style=\"text-align: right;\">\n",
       "      <th></th>\n",
       "      <th>1</th>\n",
       "      <th>2</th>\n",
       "      <th>3</th>\n",
       "      <th>4</th>\n",
       "      <th>5</th>\n",
       "      <th>6</th>\n",
       "      <th>7</th>\n",
       "      <th>8</th>\n",
       "      <th>9</th>\n",
       "      <th>class</th>\n",
       "    </tr>\n",
       "  </thead>\n",
       "  <tbody>\n",
       "    <tr>\n",
       "      <th>0</th>\n",
       "      <td>1.52101</td>\n",
       "      <td>13.64</td>\n",
       "      <td>4.49</td>\n",
       "      <td>1.10</td>\n",
       "      <td>71.78</td>\n",
       "      <td>0.06</td>\n",
       "      <td>8.75</td>\n",
       "      <td>0.0</td>\n",
       "      <td>0.0</td>\n",
       "      <td>1</td>\n",
       "    </tr>\n",
       "    <tr>\n",
       "      <th>1</th>\n",
       "      <td>1.51761</td>\n",
       "      <td>13.89</td>\n",
       "      <td>3.60</td>\n",
       "      <td>1.36</td>\n",
       "      <td>72.73</td>\n",
       "      <td>0.48</td>\n",
       "      <td>7.83</td>\n",
       "      <td>0.0</td>\n",
       "      <td>0.0</td>\n",
       "      <td>1</td>\n",
       "    </tr>\n",
       "    <tr>\n",
       "      <th>2</th>\n",
       "      <td>1.51618</td>\n",
       "      <td>13.53</td>\n",
       "      <td>3.55</td>\n",
       "      <td>1.54</td>\n",
       "      <td>72.99</td>\n",
       "      <td>0.39</td>\n",
       "      <td>7.78</td>\n",
       "      <td>0.0</td>\n",
       "      <td>0.0</td>\n",
       "      <td>1</td>\n",
       "    </tr>\n",
       "    <tr>\n",
       "      <th>3</th>\n",
       "      <td>1.51766</td>\n",
       "      <td>13.21</td>\n",
       "      <td>3.69</td>\n",
       "      <td>1.29</td>\n",
       "      <td>72.61</td>\n",
       "      <td>0.57</td>\n",
       "      <td>8.22</td>\n",
       "      <td>0.0</td>\n",
       "      <td>0.0</td>\n",
       "      <td>1</td>\n",
       "    </tr>\n",
       "    <tr>\n",
       "      <th>4</th>\n",
       "      <td>1.51742</td>\n",
       "      <td>13.27</td>\n",
       "      <td>3.62</td>\n",
       "      <td>1.24</td>\n",
       "      <td>73.08</td>\n",
       "      <td>0.55</td>\n",
       "      <td>8.07</td>\n",
       "      <td>0.0</td>\n",
       "      <td>0.0</td>\n",
       "      <td>1</td>\n",
       "    </tr>\n",
       "  </tbody>\n",
       "</table>\n",
       "</div>"
      ],
      "text/plain": [
       "         1      2     3     4      5     6     7    8    9  class\n",
       "0  1.52101  13.64  4.49  1.10  71.78  0.06  8.75  0.0  0.0      1\n",
       "1  1.51761  13.89  3.60  1.36  72.73  0.48  7.83  0.0  0.0      1\n",
       "2  1.51618  13.53  3.55  1.54  72.99  0.39  7.78  0.0  0.0      1\n",
       "3  1.51766  13.21  3.69  1.29  72.61  0.57  8.22  0.0  0.0      1\n",
       "4  1.51742  13.27  3.62  1.24  73.08  0.55  8.07  0.0  0.0      1"
      ]
     },
     "execution_count": 2,
     "metadata": {},
     "output_type": "execute_result"
    }
   ],
   "source": [
    "# open glass dataset file\n",
    "file = open('glass.txt', \"r\")\n",
    "\n",
    "# read samples from dataset file\n",
    "data = []\n",
    "\n",
    "for f in file:\n",
    "    x = f.split()\n",
    "    s = x[0].split(',')\n",
    "    s = [float(i) for i in s]\n",
    "    data.append(s)\n",
    "\n",
    "# converting data into dataframe\n",
    "glass_df = pd.DataFrame(data, columns = ['0','1','2','3','4','5','6','7','8','9','class'])\n",
    "del glass_df['0']   # as question wanted\n",
    "glass_df = glass_df.astype({'class':'int'})\n",
    "glass_df.head()"
   ]
  },
  {
   "cell_type": "code",
   "execution_count": 3,
   "id": "af371902",
   "metadata": {},
   "outputs": [
    {
     "data": {
      "text/html": [
       "<div>\n",
       "<style scoped>\n",
       "    .dataframe tbody tr th:only-of-type {\n",
       "        vertical-align: middle;\n",
       "    }\n",
       "\n",
       "    .dataframe tbody tr th {\n",
       "        vertical-align: top;\n",
       "    }\n",
       "\n",
       "    .dataframe thead th {\n",
       "        text-align: right;\n",
       "    }\n",
       "</style>\n",
       "<table border=\"1\" class=\"dataframe\">\n",
       "  <thead>\n",
       "    <tr style=\"text-align: right;\">\n",
       "      <th></th>\n",
       "      <th>1</th>\n",
       "      <th>2</th>\n",
       "      <th>3</th>\n",
       "      <th>4</th>\n",
       "      <th>5</th>\n",
       "      <th>6</th>\n",
       "      <th>7</th>\n",
       "      <th>8</th>\n",
       "      <th>9</th>\n",
       "      <th>class</th>\n",
       "    </tr>\n",
       "  </thead>\n",
       "  <tbody>\n",
       "    <tr>\n",
       "      <th>0</th>\n",
       "      <td>1</td>\n",
       "      <td>1</td>\n",
       "      <td>1</td>\n",
       "      <td>1</td>\n",
       "      <td>-1</td>\n",
       "      <td>-1</td>\n",
       "      <td>1</td>\n",
       "      <td>-1</td>\n",
       "      <td>-1</td>\n",
       "      <td>1</td>\n",
       "    </tr>\n",
       "    <tr>\n",
       "      <th>1</th>\n",
       "      <td>1</td>\n",
       "      <td>1</td>\n",
       "      <td>1</td>\n",
       "      <td>1</td>\n",
       "      <td>-1</td>\n",
       "      <td>-1</td>\n",
       "      <td>-1</td>\n",
       "      <td>1</td>\n",
       "      <td>-1</td>\n",
       "      <td>1</td>\n",
       "    </tr>\n",
       "    <tr>\n",
       "      <th>2</th>\n",
       "      <td>1</td>\n",
       "      <td>1</td>\n",
       "      <td>1</td>\n",
       "      <td>1</td>\n",
       "      <td>-1</td>\n",
       "      <td>-1</td>\n",
       "      <td>-1</td>\n",
       "      <td>-1</td>\n",
       "      <td>1</td>\n",
       "      <td>1</td>\n",
       "    </tr>\n",
       "    <tr>\n",
       "      <th>3</th>\n",
       "      <td>1</td>\n",
       "      <td>1</td>\n",
       "      <td>1</td>\n",
       "      <td>1</td>\n",
       "      <td>-1</td>\n",
       "      <td>-1</td>\n",
       "      <td>-1</td>\n",
       "      <td>0</td>\n",
       "      <td>0</td>\n",
       "      <td>1</td>\n",
       "    </tr>\n",
       "    <tr>\n",
       "      <th>4</th>\n",
       "      <td>1</td>\n",
       "      <td>1</td>\n",
       "      <td>1</td>\n",
       "      <td>1</td>\n",
       "      <td>-1</td>\n",
       "      <td>-1</td>\n",
       "      <td>0</td>\n",
       "      <td>-1</td>\n",
       "      <td>0</td>\n",
       "      <td>1</td>\n",
       "    </tr>\n",
       "  </tbody>\n",
       "</table>\n",
       "</div>"
      ],
      "text/plain": [
       "   1  2  3  4  5  6  7  8  9  class\n",
       "0  1  1  1  1 -1 -1  1 -1 -1      1\n",
       "1  1  1  1  1 -1 -1 -1  1 -1      1\n",
       "2  1  1  1  1 -1 -1 -1 -1  1      1\n",
       "3  1  1  1  1 -1 -1 -1  0  0      1\n",
       "4  1  1  1  1 -1 -1  0 -1  0      1"
      ]
     },
     "execution_count": 3,
     "metadata": {},
     "output_type": "execute_result"
    }
   ],
   "source": [
    "# open tic-tac-toe dataset file\n",
    "file = open('tic-tac-toe.txt', \"r\")\n",
    "\n",
    "# read samples from dataset file\n",
    "data = []\n",
    "\n",
    "for f in file:\n",
    "    x = f.split()\n",
    "    x = [int(i) for i in x]\n",
    "    data.append(x)\n",
    "\n",
    "tic_tac_df = pd.DataFrame(data, columns = ['1','2','3','4','5','6','7','8','9','class'])\n",
    "tic_tac_df.head()"
   ]
  },
  {
   "cell_type": "markdown",
   "id": "f3fcf5b0",
   "metadata": {},
   "source": [
    "# Split test/train"
   ]
  },
  {
   "cell_type": "code",
   "execution_count": 4,
   "id": "3d99cc88",
   "metadata": {},
   "outputs": [],
   "source": [
    "def feature_label_extraction(df):\n",
    "    X = df[['1','2','3','4','5','6','7','8','9']]\n",
    "    y = df['class']\n",
    "    return X, y"
   ]
  },
  {
   "cell_type": "code",
   "execution_count": 5,
   "id": "03c87869",
   "metadata": {},
   "outputs": [],
   "source": [
    "def test_train_split(X, y):\n",
    "    # 70% of data should be used as training set\n",
    "    X_train, X_test, y_train, y_test = train_test_split(X, y, test_size=0.3, random_state=42)\n",
    "    \n",
    "    print('X_train shape:', X_train.shape)\n",
    "    print('y_train shape:', y_train.shape)\n",
    "    print('X_test shape:', X_test.shape)\n",
    "    print('y_test shape:', y_test.shape)\n",
    "    \n",
    "    return X_train, X_test, y_train, y_test"
   ]
  },
  {
   "cell_type": "markdown",
   "id": "71864fd5",
   "metadata": {},
   "source": [
    "# Part C - Class Label Noise"
   ]
  },
  {
   "cell_type": "markdown",
   "id": "9d1bf151",
   "metadata": {},
   "source": [
    "## Model"
   ]
  },
  {
   "cell_type": "code",
   "execution_count": 6,
   "id": "be6c22b6",
   "metadata": {},
   "outputs": [],
   "source": [
    "def decision_tree_model(X_train, X_test, y_train, y_test):\n",
    "    clf = DecisionTreeClassifier()\n",
    "    clf.fit(X_train, y_train)\n",
    "    # making predictions with our model\n",
    "    predictions = clf.predict(X_test)\n",
    "    # accuracy of model\n",
    "    acc = accuracy_score(y_test, predictions)\n",
    "    return acc"
   ]
  },
  {
   "cell_type": "markdown",
   "id": "046e67b5",
   "metadata": {},
   "source": [
    "## Label Noises"
   ]
  },
  {
   "cell_type": "markdown",
   "id": "4b93128b",
   "metadata": {},
   "source": [
    "### Contradictory Examples"
   ]
  },
  {
   "cell_type": "code",
   "execution_count": 7,
   "id": "5b6aba17",
   "metadata": {},
   "outputs": [],
   "source": [
    "def contradictory_noise(df, classes, noise_level):\n",
    "        \n",
    "    # Randomly sample L% of your dataframe\n",
    "    df_partial = df.sample(frac=noise_level)\n",
    "    temp = copy.deepcopy(df_partial)\n",
    "    \n",
    "    # add 'one' more sample for each selected sample - it can be more than one\n",
    "    # set class label of each sample to one another class (except its previous class)\n",
    "    for index,_ in temp.iterrows():\n",
    "        temp.loc[index, 'class'] = random.choice(list(filter(lambda x: x != temp.loc[index, 'class'], classes)))\n",
    "    \n",
    "    # add new noisy samples to original dataframe\n",
    "    df = df.append(pd.DataFrame(temp))\n",
    "    \n",
    "    return df"
   ]
  },
  {
   "cell_type": "markdown",
   "id": "07537d06",
   "metadata": {},
   "source": [
    "### Misclassifications"
   ]
  },
  {
   "cell_type": "code",
   "execution_count": 8,
   "id": "0ddf53ab",
   "metadata": {},
   "outputs": [],
   "source": [
    "def misclassification_noise(df, classes, noise_level):\n",
    "    \n",
    "    # Randomly sample L% of your dataframe\n",
    "    df_partial = df.sample(frac=noise_level)\n",
    "    temp = copy.deepcopy(df_partial)\n",
    "    \n",
    "    # remove these selected samples from original dataframe\n",
    "    df.drop(index=[idx for idx,_ in df_partial.iterrows()], inplace=True)\n",
    "    \n",
    "    for index,_ in temp.iterrows():\n",
    "        temp.loc[index, 'class'] = random.choice(list(filter(lambda x: x != temp.loc[index, 'class'], classes)))\n",
    "    \n",
    "    # add new noisy samples to original dataframe\n",
    "    df = df.append(pd.DataFrame(temp))\n",
    "    \n",
    "    return df"
   ]
  },
  {
   "cell_type": "markdown",
   "id": "7acac56c",
   "metadata": {},
   "source": [
    "## Add Class Label Noises"
   ]
  },
  {
   "cell_type": "code",
   "execution_count": 9,
   "id": "a3cfa02d",
   "metadata": {},
   "outputs": [],
   "source": [
    "def add_class_label_noise(df, X_train, X_test, y_train, y_test):\n",
    "    # get all possible values as class label\n",
    "    classes = df['class'].unique()\n",
    "\n",
    "    # combine X, y train together\n",
    "    temp_df = copy.deepcopy(X_train)\n",
    "    temp_df['class'] = y_train\n",
    "    \n",
    "    noise_level = [0.05, 0.1, 0.15]\n",
    "    \n",
    "    # without noise\n",
    "    c_acc = decision_tree_model(X_train, X_test, y_train, y_test)\n",
    "    \n",
    "    # add contradictiory examples\n",
    "    acc_con = []\n",
    "    acc_con.append(c_acc)\n",
    "    for nl in noise_level:\n",
    "        noisy_df = contradictory_noise(temp_df, classes, nl)\n",
    "        d_X_train = noisy_df[['1','2','3','4','5','6','7','8','9']]\n",
    "        d_y_train = noisy_df['class']\n",
    "        acc = decision_tree_model(d_X_train, X_test, d_y_train, y_test)\n",
    "        acc_con.append(acc)\n",
    "        \n",
    "    # add misclassification noise\n",
    "    acc_mis = []\n",
    "    acc_mis.append(c_acc)\n",
    "    for nl in noise_level:\n",
    "        noisy_df = misclassification_noise(temp_df, classes, nl)\n",
    "        d_X_train = noisy_df[['1','2','3','4','5','6','7','8','9']]\n",
    "        d_y_train = noisy_df['class']\n",
    "        acc = decision_tree_model(d_X_train, X_test, d_y_train, y_test)\n",
    "        acc_mis.append(acc)\n",
    "        \n",
    "    noise_level.insert(0, 0)\n",
    "    \n",
    "    # Plot accuracy for each attribute-noise level\n",
    "    plt.plot(noise_level, acc_con, label='Contradictory examples noise')\n",
    "    plt.plot(noise_level, acc_mis, label='Misclassification noise')\n",
    "    plt.xlabel('label-noise level')\n",
    "    plt.ylabel('accuracy')\n",
    "    plt.legend()"
   ]
  },
  {
   "cell_type": "markdown",
   "id": "0ecbc98a",
   "metadata": {},
   "source": [
    "## 1. glass dataframe"
   ]
  },
  {
   "cell_type": "code",
   "execution_count": 19,
   "id": "b70f53f8",
   "metadata": {},
   "outputs": [
    {
     "data": {
      "text/plain": [
       "(214, 10)"
      ]
     },
     "execution_count": 19,
     "metadata": {},
     "output_type": "execute_result"
    }
   ],
   "source": [
    "glass_df.shape"
   ]
  },
  {
   "cell_type": "code",
   "execution_count": 20,
   "id": "3c91413e",
   "metadata": {},
   "outputs": [
    {
     "name": "stdout",
     "output_type": "stream",
     "text": [
      "X_train shape: (149, 9)\n",
      "y_train shape: (149,)\n",
      "X_test shape: (65, 9)\n",
      "y_test shape: (65,)\n"
     ]
    }
   ],
   "source": [
    "X, y = feature_label_extraction(glass_df)\n",
    "X_train, X_test, y_train, y_test = test_train_split(X, y)"
   ]
  },
  {
   "cell_type": "code",
   "execution_count": 21,
   "id": "cd122fc1",
   "metadata": {},
   "outputs": [
    {
     "data": {
      "image/png": "[encoded data removed]",
      "text/plain": [
       "<Figure size 432x288 with 1 Axes>"
      ]
     },
     "metadata": {
      "needs_background": "light"
     },
     "output_type": "display_data"
    }
   ],
   "source": [
    "add_class_label_noise(glass_df, X_train, X_test, y_train, y_test)"
   ]
  },
  {
   "cell_type": "markdown",
   "id": "1ba3dbdd",
   "metadata": {},
   "source": [
    "## 2. tic-tac-toe dataframe"
   ]
  },
  {
   "cell_type": "code",
   "execution_count": 16,
   "id": "1a785024",
   "metadata": {},
   "outputs": [
    {
     "data": {
      "text/plain": [
       "(958, 10)"
      ]
     },
     "execution_count": 16,
     "metadata": {},
     "output_type": "execute_result"
    }
   ],
   "source": [
    "tic_tac_df.shape"
   ]
  },
  {
   "cell_type": "code",
   "execution_count": 17,
   "id": "21eb2d65",
   "metadata": {},
   "outputs": [
    {
     "name": "stdout",
     "output_type": "stream",
     "text": [
      "X_train shape: (670, 9)\n",
      "y_train shape: (670,)\n",
      "X_test shape: (288, 9)\n",
      "y_test shape: (288,)\n"
     ]
    }
   ],
   "source": [
    "X, y = feature_label_extraction(tic_tac_df)\n",
    "X_train, X_test, y_train, y_test = test_train_split(X, y)"
   ]
  },
  {
   "cell_type": "code",
   "execution_count": 18,
   "id": "30f477fe",
   "metadata": {},
   "outputs": [
    {
     "data": {
      "image/png": "[encoded data removed]",
      "text/plain": [
       "<Figure size 432x288 with 1 Axes>"
      ]
     },
     "metadata": {
      "needs_background": "light"
     },
     "output_type": "display_data"
    }
   ],
   "source": [
    "add_class_label_noise(tic_tac_df, X_train, X_test, y_train, y_test)"
   ]
  }
 ],
 "metadata": {
  "kernelspec": {
   "display_name": "Python 3",
   "language": "python",
   "name": "python3"
  },
  "language_info": {
   "codemirror_mode": {
    "name": "ipython",
    "version": 3
   },
   "file_extension": ".py",
   "mimetype": "text/x-python",
   "name": "python",
   "nbconvert_exporter": "python",
   "pygments_lexer": "ipython3",
   "version": "3.9.12"
  }
 },
 "nbformat": 4,
 "nbformat_minor": 5
}
