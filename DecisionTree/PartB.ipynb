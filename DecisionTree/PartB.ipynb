{
 "cells": [
  {
   "cell_type": "code",
   "execution_count": 1,
   "id": "9ed77cf8",
   "metadata": {},
   "outputs": [],
   "source": [
    "import pandas as pd\n",
    "import numpy as np\n",
    "import matplotlib.pyplot as plt\n",
    "import random\n",
    "from sklearn.model_selection import train_test_split\n",
    "from sklearn.tree import DecisionTreeClassifier\n",
    "from sklearn.metrics import accuracy_score\n",
    "import warnings\n",
    "warnings.filterwarnings('ignore')"
   ]
  },
  {
   "cell_type": "markdown",
   "id": "c3868b29",
   "metadata": {},
   "source": [
    "# Load Datasets"
   ]
  },
  {
   "cell_type": "code",
   "execution_count": 2,
   "id": "4e107bc7",
   "metadata": {},
   "outputs": [
    {
     "data": {
      "text/html": [
       "<div>\n",
       "<style scoped>\n",
       "    .dataframe tbody tr th:only-of-type {\n",
       "        vertical-align: middle;\n",
       "    }\n",
       "\n",
       "    .dataframe tbody tr th {\n",
       "        vertical-align: top;\n",
       "    }\n",
       "\n",
       "    .dataframe thead th {\n",
       "        text-align: right;\n",
       "    }\n",
       "</style>\n",
       "<table border=\"1\" class=\"dataframe\">\n",
       "  <thead>\n",
       "    <tr style=\"text-align: right;\">\n",
       "      <th></th>\n",
       "      <th>1</th>\n",
       "      <th>2</th>\n",
       "      <th>3</th>\n",
       "      <th>4</th>\n",
       "      <th>5</th>\n",
       "      <th>6</th>\n",
       "      <th>7</th>\n",
       "      <th>8</th>\n",
       "      <th>9</th>\n",
       "      <th>class</th>\n",
       "    </tr>\n",
       "  </thead>\n",
       "  <tbody>\n",
       "    <tr>\n",
       "      <th>0</th>\n",
       "      <td>1.52101</td>\n",
       "      <td>13.64</td>\n",
       "      <td>4.49</td>\n",
       "      <td>1.10</td>\n",
       "      <td>71.78</td>\n",
       "      <td>0.06</td>\n",
       "      <td>8.75</td>\n",
       "      <td>0.0</td>\n",
       "      <td>0.0</td>\n",
       "      <td>1</td>\n",
       "    </tr>\n",
       "    <tr>\n",
       "      <th>1</th>\n",
       "      <td>1.51761</td>\n",
       "      <td>13.89</td>\n",
       "      <td>3.60</td>\n",
       "      <td>1.36</td>\n",
       "      <td>72.73</td>\n",
       "      <td>0.48</td>\n",
       "      <td>7.83</td>\n",
       "      <td>0.0</td>\n",
       "      <td>0.0</td>\n",
       "      <td>1</td>\n",
       "    </tr>\n",
       "    <tr>\n",
       "      <th>2</th>\n",
       "      <td>1.51618</td>\n",
       "      <td>13.53</td>\n",
       "      <td>3.55</td>\n",
       "      <td>1.54</td>\n",
       "      <td>72.99</td>\n",
       "      <td>0.39</td>\n",
       "      <td>7.78</td>\n",
       "      <td>0.0</td>\n",
       "      <td>0.0</td>\n",
       "      <td>1</td>\n",
       "    </tr>\n",
       "    <tr>\n",
       "      <th>3</th>\n",
       "      <td>1.51766</td>\n",
       "      <td>13.21</td>\n",
       "      <td>3.69</td>\n",
       "      <td>1.29</td>\n",
       "      <td>72.61</td>\n",
       "      <td>0.57</td>\n",
       "      <td>8.22</td>\n",
       "      <td>0.0</td>\n",
       "      <td>0.0</td>\n",
       "      <td>1</td>\n",
       "    </tr>\n",
       "    <tr>\n",
       "      <th>4</th>\n",
       "      <td>1.51742</td>\n",
       "      <td>13.27</td>\n",
       "      <td>3.62</td>\n",
       "      <td>1.24</td>\n",
       "      <td>73.08</td>\n",
       "      <td>0.55</td>\n",
       "      <td>8.07</td>\n",
       "      <td>0.0</td>\n",
       "      <td>0.0</td>\n",
       "      <td>1</td>\n",
       "    </tr>\n",
       "  </tbody>\n",
       "</table>\n",
       "</div>"
      ],
      "text/plain": [
       "         1      2     3     4      5     6     7    8    9  class\n",
       "0  1.52101  13.64  4.49  1.10  71.78  0.06  8.75  0.0  0.0      1\n",
       "1  1.51761  13.89  3.60  1.36  72.73  0.48  7.83  0.0  0.0      1\n",
       "2  1.51618  13.53  3.55  1.54  72.99  0.39  7.78  0.0  0.0      1\n",
       "3  1.51766  13.21  3.69  1.29  72.61  0.57  8.22  0.0  0.0      1\n",
       "4  1.51742  13.27  3.62  1.24  73.08  0.55  8.07  0.0  0.0      1"
      ]
     },
     "execution_count": 2,
     "metadata": {},
     "output_type": "execute_result"
    }
   ],
   "source": [
    "# open glass dataset file\n",
    "file = open('glass.txt', \"r\")\n",
    "\n",
    "# read samples from dataset file\n",
    "data = []\n",
    "\n",
    "for f in file:\n",
    "    x = f.split()\n",
    "    s = x[0].split(',')\n",
    "    s = [float(i) for i in s]\n",
    "    data.append(s)\n",
    "\n",
    "# converting data into dataframe\n",
    "glass_df = pd.DataFrame(data, columns = ['0','1','2','3','4','5','6','7','8','9','class'])\n",
    "del glass_df['0']   # as question wanted\n",
    "glass_df = glass_df.astype({'class':'int'})\n",
    "glass_df.head()"
   ]
  },
  {
   "cell_type": "code",
   "execution_count": 3,
   "id": "99eeb340",
   "metadata": {},
   "outputs": [
    {
     "data": {
      "text/html": [
       "<div>\n",
       "<style scoped>\n",
       "    .dataframe tbody tr th:only-of-type {\n",
       "        vertical-align: middle;\n",
       "    }\n",
       "\n",
       "    .dataframe tbody tr th {\n",
       "        vertical-align: top;\n",
       "    }\n",
       "\n",
       "    .dataframe thead th {\n",
       "        text-align: right;\n",
       "    }\n",
       "</style>\n",
       "<table border=\"1\" class=\"dataframe\">\n",
       "  <thead>\n",
       "    <tr style=\"text-align: right;\">\n",
       "      <th></th>\n",
       "      <th>1</th>\n",
       "      <th>2</th>\n",
       "      <th>3</th>\n",
       "      <th>4</th>\n",
       "      <th>5</th>\n",
       "      <th>6</th>\n",
       "      <th>7</th>\n",
       "      <th>8</th>\n",
       "      <th>9</th>\n",
       "      <th>class</th>\n",
       "    </tr>\n",
       "  </thead>\n",
       "  <tbody>\n",
       "    <tr>\n",
       "      <th>0</th>\n",
       "      <td>1</td>\n",
       "      <td>1</td>\n",
       "      <td>1</td>\n",
       "      <td>1</td>\n",
       "      <td>-1</td>\n",
       "      <td>-1</td>\n",
       "      <td>1</td>\n",
       "      <td>-1</td>\n",
       "      <td>-1</td>\n",
       "      <td>1</td>\n",
       "    </tr>\n",
       "    <tr>\n",
       "      <th>1</th>\n",
       "      <td>1</td>\n",
       "      <td>1</td>\n",
       "      <td>1</td>\n",
       "      <td>1</td>\n",
       "      <td>-1</td>\n",
       "      <td>-1</td>\n",
       "      <td>-1</td>\n",
       "      <td>1</td>\n",
       "      <td>-1</td>\n",
       "      <td>1</td>\n",
       "    </tr>\n",
       "    <tr>\n",
       "      <th>2</th>\n",
       "      <td>1</td>\n",
       "      <td>1</td>\n",
       "      <td>1</td>\n",
       "      <td>1</td>\n",
       "      <td>-1</td>\n",
       "      <td>-1</td>\n",
       "      <td>-1</td>\n",
       "      <td>-1</td>\n",
       "      <td>1</td>\n",
       "      <td>1</td>\n",
       "    </tr>\n",
       "    <tr>\n",
       "      <th>3</th>\n",
       "      <td>1</td>\n",
       "      <td>1</td>\n",
       "      <td>1</td>\n",
       "      <td>1</td>\n",
       "      <td>-1</td>\n",
       "      <td>-1</td>\n",
       "      <td>-1</td>\n",
       "      <td>0</td>\n",
       "      <td>0</td>\n",
       "      <td>1</td>\n",
       "    </tr>\n",
       "    <tr>\n",
       "      <th>4</th>\n",
       "      <td>1</td>\n",
       "      <td>1</td>\n",
       "      <td>1</td>\n",
       "      <td>1</td>\n",
       "      <td>-1</td>\n",
       "      <td>-1</td>\n",
       "      <td>0</td>\n",
       "      <td>-1</td>\n",
       "      <td>0</td>\n",
       "      <td>1</td>\n",
       "    </tr>\n",
       "  </tbody>\n",
       "</table>\n",
       "</div>"
      ],
      "text/plain": [
       "   1  2  3  4  5  6  7  8  9  class\n",
       "0  1  1  1  1 -1 -1  1 -1 -1      1\n",
       "1  1  1  1  1 -1 -1 -1  1 -1      1\n",
       "2  1  1  1  1 -1 -1 -1 -1  1      1\n",
       "3  1  1  1  1 -1 -1 -1  0  0      1\n",
       "4  1  1  1  1 -1 -1  0 -1  0      1"
      ]
     },
     "execution_count": 3,
     "metadata": {},
     "output_type": "execute_result"
    }
   ],
   "source": [
    "# open tic-tac-toe dataset file\n",
    "file = open('tic-tac-toe.txt', \"r\")\n",
    "\n",
    "# read samples from dataset file\n",
    "data = []\n",
    "\n",
    "for f in file:\n",
    "    x = f.split()\n",
    "    x = [int(i) for i in x]\n",
    "    data.append(x)\n",
    "\n",
    "tic_tac_df = pd.DataFrame(data, columns = ['1','2','3','4','5','6','7','8','9','class'])\n",
    "tic_tac_df.head()"
   ]
  },
  {
   "cell_type": "markdown",
   "id": "2ff71550",
   "metadata": {},
   "source": [
    "# Split test/train"
   ]
  },
  {
   "cell_type": "code",
   "execution_count": 4,
   "id": "65b8b126",
   "metadata": {},
   "outputs": [],
   "source": [
    "def feature_label_extraction(df):\n",
    "    X = df[['1','2','3','4','5','6','7','8','9']]\n",
    "    y = df['class']\n",
    "    return X, y"
   ]
  },
  {
   "cell_type": "code",
   "execution_count": 5,
   "id": "a0bd8b62",
   "metadata": {},
   "outputs": [],
   "source": [
    "def test_train_split(X, y):\n",
    "    # 70% of data should be used as training set\n",
    "    X_train, X_test, y_train, y_test = train_test_split(X, y, test_size=0.3, random_state=42)\n",
    "    \n",
    "    print('X_train shape:', X_train.shape)\n",
    "    print('y_train shape:', y_train.shape)\n",
    "    print('X_test shape:', X_test.shape)\n",
    "    print('y_test shape:', y_test.shape)\n",
    "    \n",
    "    return X_train, X_test, y_train, y_test"
   ]
  },
  {
   "cell_type": "markdown",
   "id": "df0f918e",
   "metadata": {},
   "source": [
    "# Part B - Attribute Noise"
   ]
  },
  {
   "cell_type": "markdown",
   "id": "a2409ee5",
   "metadata": {},
   "source": [
    "## Model"
   ]
  },
  {
   "cell_type": "code",
   "execution_count": 6,
   "id": "c418869f",
   "metadata": {},
   "outputs": [],
   "source": [
    "def decision_tree_model(X_train, y_train):\n",
    "    clf = DecisionTreeClassifier()\n",
    "    clf.fit(X_train, y_train)\n",
    "    return clf"
   ]
  },
  {
   "cell_type": "code",
   "execution_count": 7,
   "id": "1d16f123",
   "metadata": {},
   "outputs": [],
   "source": [
    "def prediction(clf, X_test, y_test):\n",
    "    predictions = clf.predict(X_test)\n",
    "    acc = accuracy_score(y_test, predictions)\n",
    "    return acc"
   ]
  },
  {
   "cell_type": "markdown",
   "id": "beb0eb7f",
   "metadata": {},
   "source": [
    "## Add Noise"
   ]
  },
  {
   "cell_type": "code",
   "execution_count": 8,
   "id": "8e3979f2",
   "metadata": {},
   "outputs": [],
   "source": [
    "def add_attribute_noise(X, noise_level):\n",
    "    return X + np.random.multivariate_normal(np.zeros((X.shape[1],)), X.cov()*noise_level, X.shape[0])"
   ]
  },
  {
   "cell_type": "markdown",
   "id": "e99c58ba",
   "metadata": {},
   "source": [
    "## Clean Vs Dirty"
   ]
  },
  {
   "cell_type": "code",
   "execution_count": 9,
   "id": "aaa2dadd",
   "metadata": {},
   "outputs": [],
   "source": [
    "def clean_dirty_model_predict(c_X_train, c_X_test, y_train, y_test):\n",
    "    \n",
    "    # C vs C\n",
    "    # Clean training set Vs Clean test set\n",
    "    c_clf = decision_tree_model(c_X_train, y_train)\n",
    "    acc_cc = prediction(c_clf, c_X_test, y_test)\n",
    "    acc_cc = [acc_cc]*3\n",
    "    print('CvsC Accuracy:', acc_cc)\n",
    "    \n",
    "    noise_level = [0.05, 0.1, 0.15]\n",
    "    \n",
    "    # D vs C\n",
    "    # Dirty training set Vs Clean test set\n",
    "    acc_dc = []\n",
    "    d_clf_list = []\n",
    "    for nl in noise_level:\n",
    "        d_X_train = add_attribute_noise(c_X_train, nl)\n",
    "        d_clf = decision_tree_model(d_X_train, y_train)\n",
    "        d_clf_list.append(d_clf)\n",
    "        acc = prediction(d_clf, c_X_test, y_test)\n",
    "        acc_dc.append(acc)\n",
    "    print('DvsC Accuracy:', acc_dc)\n",
    "    \n",
    "    # C vs D\n",
    "    # Clean training set Vs Dirty test set\n",
    "    acc_cd = []\n",
    "    d_X_test_list = []\n",
    "    for nl in noise_level:\n",
    "        d_X_test = add_attribute_noise(c_X_test, nl)\n",
    "        d_X_test_list.append(d_X_test)\n",
    "        acc = prediction(c_clf, d_X_test, y_test)\n",
    "        acc_cd.append(acc)\n",
    "    print('CvsD Accuracy:', acc_cd)\n",
    "    \n",
    "    # D vs D\n",
    "    # Dirty training set Vs Dirty test set\n",
    "    acc_dd = []\n",
    "    for i in range(len(noise_level)):\n",
    "        acc = prediction(d_clf_list[i], d_X_test_list[i], y_test)\n",
    "        acc_dd.append(acc)\n",
    "    print('DvsD Accuracy:', acc_dd)\n",
    "    \n",
    "    # Plot accuracy in each attribute-noise level\n",
    "    plt.plot(noise_level, acc_cc, label='CvsC')\n",
    "    plt.plot(noise_level, acc_cd, label='CvsD')\n",
    "    plt.plot(noise_level, acc_dc, label='DvsC')\n",
    "    plt.plot(noise_level, acc_dd, label='DvsD')\n",
    "    plt.xlabel('attribute-noise level')\n",
    "    plt.ylabel('accuracy')\n",
    "    plt.legend()"
   ]
  },
  {
   "cell_type": "markdown",
   "id": "9fed54d7",
   "metadata": {},
   "source": [
    "## 1. glass dataframe"
   ]
  },
  {
   "cell_type": "code",
   "execution_count": 40,
   "id": "5e36c321",
   "metadata": {},
   "outputs": [
    {
     "data": {
      "text/plain": [
       "(214, 10)"
      ]
     },
     "execution_count": 40,
     "metadata": {},
     "output_type": "execute_result"
    }
   ],
   "source": [
    "glass_df.shape"
   ]
  },
  {
   "cell_type": "code",
   "execution_count": 41,
   "id": "184be03f",
   "metadata": {},
   "outputs": [
    {
     "name": "stdout",
     "output_type": "stream",
     "text": [
      "X_train shape: (149, 9)\n",
      "y_train shape: (149,)\n",
      "X_test shape: (65, 9)\n",
      "y_test shape: (65,)\n"
     ]
    }
   ],
   "source": [
    "X, y = feature_label_extraction(glass_df)\n",
    "c_X_train, c_X_test, y_train, y_test = test_train_split(X, y)"
   ]
  },
  {
   "cell_type": "code",
   "execution_count": 56,
   "id": "d014e721",
   "metadata": {},
   "outputs": [
    {
     "name": "stdout",
     "output_type": "stream",
     "text": [
      "CvsC Accuracy: [0.676923076923077, 0.676923076923077, 0.676923076923077]\n",
      "DvsC Accuracy: [0.6615384615384615, 0.6, 0.5846153846153846]\n",
      "CvsD Accuracy: [0.6, 0.5230769230769231, 0.5230769230769231]\n",
      "DvsD Accuracy: [0.5384615384615384, 0.5230769230769231, 0.47692307692307695]\n"
     ]
    },
    {
     "data": {
      "image/png": "[encoded data removed]",
      "text/plain": [
       "<Figure size 432x288 with 1 Axes>"
      ]
     },
     "metadata": {
      "needs_background": "light"
     },
     "output_type": "display_data"
    }
   ],
   "source": [
    "clean_dirty_model_predict(c_X_train, c_X_test, y_train, y_test)"
   ]
  },
  {
   "cell_type": "markdown",
   "id": "f0b346cb",
   "metadata": {},
   "source": [
    "## 2. tic-tac-toe dataframe"
   ]
  },
  {
   "cell_type": "code",
   "execution_count": 37,
   "id": "a5f4b12d",
   "metadata": {},
   "outputs": [
    {
     "data": {
      "text/plain": [
       "(958, 10)"
      ]
     },
     "execution_count": 37,
     "metadata": {},
     "output_type": "execute_result"
    }
   ],
   "source": [
    "tic_tac_df.shape"
   ]
  },
  {
   "cell_type": "code",
   "execution_count": 38,
   "id": "aa79f9ce",
   "metadata": {},
   "outputs": [
    {
     "name": "stdout",
     "output_type": "stream",
     "text": [
      "X_train shape: (670, 9)\n",
      "y_train shape: (670,)\n",
      "X_test shape: (288, 9)\n",
      "y_test shape: (288,)\n"
     ]
    }
   ],
   "source": [
    "X, y = feature_label_extraction(tic_tac_df)\n",
    "c_X_train, c_X_test, y_train, y_test = test_train_split(X, y)"
   ]
  },
  {
   "cell_type": "code",
   "execution_count": 39,
   "id": "fbe347ee",
   "metadata": {},
   "outputs": [
    {
     "name": "stdout",
     "output_type": "stream",
     "text": [
      "CvsC Accuracy: [0.9513888888888888, 0.9513888888888888, 0.9513888888888888]\n",
      "DvsC Accuracy: [0.9305555555555556, 0.8680555555555556, 0.8611111111111112]\n",
      "CvsD Accuracy: [0.9479166666666666, 0.8888888888888888, 0.8923611111111112]\n",
      "DvsD Accuracy: [0.8923611111111112, 0.8020833333333334, 0.7604166666666666]\n"
     ]
    },
    {
     "data": {
      "image/png": "[encoded data removed]",
      "text/plain": [
       "<Figure size 432x288 with 1 Axes>"
      ]
     },
     "metadata": {
      "needs_background": "light"
     },
     "output_type": "display_data"
    }
   ],
   "source": [
    "clean_dirty_model_predict(c_X_train, c_X_test, y_train, y_test)"
   ]
  }
 ],
 "metadata": {
  "kernelspec": {
   "display_name": "Python 3",
   "language": "python",
   "name": "python3"
  },
  "language_info": {
   "codemirror_mode": {
    "name": "ipython",
    "version": 3
   },
   "file_extension": ".py",
   "mimetype": "text/x-python",
   "name": "python",
   "nbconvert_exporter": "python",
   "pygments_lexer": "ipython3",
   "version": "3.9.12"
  }
 },
 "nbformat": 4,
 "nbformat_minor": 5
}
